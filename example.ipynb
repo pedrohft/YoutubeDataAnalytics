{
 "cells": [
  {
   "cell_type": "code",
   "execution_count": 2,
   "metadata": {},
   "outputs": [],
   "source": [
    "from pyspark.sql.functions import *\n",
    "from pyspark.sql import SparkSession\n",
    "\n",
    "spark = (\n",
    "    SparkSession.builder.appName(\"ExerciseSpark\")\n",
    "    .getOrCreate()\n",
    ")\n"
   ]
  },
  {
   "cell_type": "code",
   "execution_count": 5,
   "metadata": {},
   "outputs": [],
   "source": [
    "df = (\n",
    "    spark\n",
    "    .read\n",
    "    .format(\"json\")\n",
    "    .option(\"header\", True)\n",
    "    .option(\"inferSchema\", True)\n",
    "    .load(\"./datalake/bronze/json_data.json\", multiLine=True)\n",
    ")\n",
    "\n",
    "\n"
   ]
  },
  {
   "cell_type": "code",
   "execution_count": 7,
   "metadata": {},
   "outputs": [
    {
     "name": "stdout",
     "output_type": "stream",
     "text": [
      "root\n",
      " |-- amountString: string (nullable = true)\n",
      " |-- amountValue: double (nullable = true)\n",
      " |-- author: struct (nullable = true)\n",
      " |    |-- badgeUrl: string (nullable = true)\n",
      " |    |-- channelId: string (nullable = true)\n",
      " |    |-- channelUrl: string (nullable = true)\n",
      " |    |-- imageUrl: string (nullable = true)\n",
      " |    |-- isChatModerator: boolean (nullable = true)\n",
      " |    |-- isChatOwner: boolean (nullable = true)\n",
      " |    |-- isChatSponsor: boolean (nullable = true)\n",
      " |    |-- isVerified: boolean (nullable = true)\n",
      " |    |-- name: string (nullable = true)\n",
      " |    |-- type: string (nullable = true)\n",
      " |-- bgColor: long (nullable = true)\n",
      " |-- currency: string (nullable = true)\n",
      " |-- datetime: string (nullable = true)\n",
      " |-- elapsedTime: string (nullable = true)\n",
      " |-- id: string (nullable = true)\n",
      " |-- message: string (nullable = true)\n",
      " |-- messageEx: array (nullable = true)\n",
      " |    |-- element: string (containsNull = true)\n",
      " |-- timestamp: long (nullable = true)\n",
      " |-- type: string (nullable = true)\n",
      "\n"
     ]
    }
   ],
   "source": [
    "df.printSchema()"
   ]
  },
  {
   "cell_type": "code",
   "execution_count": 8,
   "metadata": {},
   "outputs": [
    {
     "name": "stdout",
     "output_type": "stream",
     "text": [
      "+------------+-----------+--------------------+-------+--------+-------------------+-----------+--------------------+--------------------+--------------------+-------------+-----------+\n",
      "|amountString|amountValue|              author|bgColor|currency|           datetime|elapsedTime|                  id|             message|           messageEx|    timestamp|       type|\n",
      "+------------+-----------+--------------------+-------+--------+-------------------+-----------+--------------------+--------------------+--------------------+-------------+-----------+\n",
      "|            |        0.0|{, UC-FPTg6myaNEd...|      0|        |2022-06-17 14:33:36|           |CjsKGkNNSEg2cnVDd...|I have the abilit...|[I have the abili...|1655487216657|textMessage|\n",
      "+------------+-----------+--------------------+-------+--------+-------------------+-----------+--------------------+--------------------+--------------------+-------------+-----------+\n",
      "\n"
     ]
    }
   ],
   "source": [
    "df.show()"
   ]
  },
  {
   "cell_type": "code",
   "execution_count": null,
   "metadata": {},
   "outputs": [],
   "source": []
  }
 ],
 "metadata": {
  "kernelspec": {
   "display_name": "Python 3.10.3 ('venv': venv)",
   "language": "python",
   "name": "python3"
  },
  "language_info": {
   "codemirror_mode": {
    "name": "ipython",
    "version": 3
   },
   "file_extension": ".py",
   "mimetype": "text/x-python",
   "name": "python",
   "nbconvert_exporter": "python",
   "pygments_lexer": "ipython3",
   "version": "3.10.3"
  },
  "orig_nbformat": 4,
  "vscode": {
   "interpreter": {
    "hash": "b0e9a9a114dbb0be161e350dfe64ec1939bf7bd46ff6efbaa9e97e9b7c00de57"
   }
  }
 },
 "nbformat": 4,
 "nbformat_minor": 2
}
