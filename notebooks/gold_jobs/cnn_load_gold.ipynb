{
 "cells": [
  {
   "cell_type": "code",
   "execution_count": 1,
   "metadata": {},
   "outputs": [],
   "source": [
    "import pandas as pd\n",
    "\n",
    "df = pd.read_parquet(\"../../datalake/silver/cnn/data.parquet/year=2022/\")"
   ]
  },
  {
   "cell_type": "code",
   "execution_count": 2,
   "metadata": {},
   "outputs": [],
   "source": [
    "df[\"topic\"] = \"cnn\""
   ]
  },
  {
   "cell_type": "code",
   "execution_count": 3,
   "metadata": {},
   "outputs": [],
   "source": [
    "df_author = df[[\"name\", \"type\", \"isVerified\", \"isChatOwner\", \"isChatSponsor\", \n",
    "\"channelUrl\", \"imageUrl\", \"channelId\"]]\n",
    "\n",
    "df_message = df[[\"type\", \"timestamp\", \"elapsedTime\", \"datetime\", \"message\", \"amountValue\", \"amountString\", \n",
    "\"currency\", \"bgColor\", \"topic\",\"id\", \"channelId\"]]"
   ]
  },
  {
   "cell_type": "code",
   "execution_count": 4,
   "metadata": {},
   "outputs": [
    {
     "name": "stderr",
     "output_type": "stream",
     "text": [
      "C:\\Users\\PedroTeixeira\\AppData\\Local\\Temp\\ipykernel_26240\\4282829026.py:3: SettingWithCopyWarning: \n",
      "A value is trying to be set on a copy of a slice from a DataFrame.\n",
      "Try using .loc[row_indexer,col_indexer] = value instead\n",
      "\n",
      "See the caveats in the documentation: https://pandas.pydata.org/pandas-docs/stable/user_guide/indexing.html#returning-a-view-versus-a-copy\n",
      "  df_author[\"year\"] = datetime.now().year\n",
      "C:\\Users\\PedroTeixeira\\AppData\\Local\\Temp\\ipykernel_26240\\4282829026.py:4: SettingWithCopyWarning: \n",
      "A value is trying to be set on a copy of a slice from a DataFrame.\n",
      "Try using .loc[row_indexer,col_indexer] = value instead\n",
      "\n",
      "See the caveats in the documentation: https://pandas.pydata.org/pandas-docs/stable/user_guide/indexing.html#returning-a-view-versus-a-copy\n",
      "  df_author[\"month\"] = datetime.now().month\n",
      "C:\\Users\\PedroTeixeira\\AppData\\Local\\Temp\\ipykernel_26240\\4282829026.py:6: SettingWithCopyWarning: \n",
      "A value is trying to be set on a copy of a slice from a DataFrame.\n",
      "Try using .loc[row_indexer,col_indexer] = value instead\n",
      "\n",
      "See the caveats in the documentation: https://pandas.pydata.org/pandas-docs/stable/user_guide/indexing.html#returning-a-view-versus-a-copy\n",
      "  df_message[\"year\"] = datetime.now().year\n",
      "C:\\Users\\PedroTeixeira\\AppData\\Local\\Temp\\ipykernel_26240\\4282829026.py:7: SettingWithCopyWarning: \n",
      "A value is trying to be set on a copy of a slice from a DataFrame.\n",
      "Try using .loc[row_indexer,col_indexer] = value instead\n",
      "\n",
      "See the caveats in the documentation: https://pandas.pydata.org/pandas-docs/stable/user_guide/indexing.html#returning-a-view-versus-a-copy\n",
      "  df_message[\"month\"] = datetime.now().month\n"
     ]
    }
   ],
   "source": [
    "from datetime import datetime\n",
    "\n",
    "df_author[\"year\"] = datetime.now().year\n",
    "df_author[\"month\"] = datetime.now().month\n",
    "\n",
    "df_message[\"year\"] = datetime.now().year\n",
    "df_message[\"month\"] = datetime.now().month"
   ]
  },
  {
   "cell_type": "code",
   "execution_count": 5,
   "metadata": {},
   "outputs": [],
   "source": [
    "df_author.to_parquet(\n",
    "    '../../datalake/gold/cnn/author/data.parquet',\n",
    "    partition_cols=['year', 'month'])\n",
    "\n",
    "df_message.to_parquet(\n",
    "    '../../datalake/gold/cnn/message/data.parquet',\n",
    "    partition_cols=['year', 'month'])"
   ]
  },
  {
   "cell_type": "code",
   "execution_count": null,
   "metadata": {},
   "outputs": [],
   "source": []
  }
 ],
 "metadata": {
  "kernelspec": {
   "display_name": "Python 3.10.3 ('venv': venv)",
   "language": "python",
   "name": "python3"
  },
  "language_info": {
   "codemirror_mode": {
    "name": "ipython",
    "version": 3
   },
   "file_extension": ".py",
   "mimetype": "text/x-python",
   "name": "python",
   "nbconvert_exporter": "python",
   "pygments_lexer": "ipython3",
   "version": "3.10.3"
  },
  "orig_nbformat": 4,
  "vscode": {
   "interpreter": {
    "hash": "b0e9a9a114dbb0be161e350dfe64ec1939bf7bd46ff6efbaa9e97e9b7c00de57"
   }
  }
 },
 "nbformat": 4,
 "nbformat_minor": 2
}
