{
 "cells": [
  {
   "cell_type": "code",
   "execution_count": 8,
   "metadata": {},
   "outputs": [],
   "source": [
    "from pyspark.sql.functions import *\n",
    "from pyspark.sql import SparkSession\n",
    "import os, json\n",
    "from pyspark.sql.functions import *\n",
    "\n",
    "spark = (\n",
    "    SparkSession.builder.appName(\"ExerciseSpark\")\n",
    "    .getOrCreate()\n",
    ")"
   ]
  },
  {
   "cell_type": "code",
   "execution_count": 94,
   "metadata": {},
   "outputs": [],
   "source": [
    "path_to_json = '../datalake/bronze/lofi-hiphop/'\n",
    "json_files = [  '../datalake/bronze/lofi-hiphop/' + pos_json for pos_json in os.listdir(path_to_json) \n",
    "              if pos_json.endswith('.json')]\n",
    "\n",
    "df = (\n",
    "    spark\n",
    "    .read\n",
    "    .format(\"json\")\n",
    "    .load(json_files, multiLine=True)\n",
    ")"
   ]
  },
  {
   "cell_type": "code",
   "execution_count": null,
   "metadata": {},
   "outputs": [],
   "source": []
  },
  {
   "cell_type": "code",
   "execution_count": 95,
   "metadata": {},
   "outputs": [],
   "source": [
    "cols = [\"author\", \"messageEx\"]\n",
    "df = (\n",
    "    df\n",
    "    .withColumn(\"badgeUrl\", col(\"author.badgeUrl\"))\n",
    "    .withColumn(\"channelId\", col(\"author.channelId\"))\n",
    "    .withColumn(\"channelUrl\", col(\"author.channelUrl\"))\n",
    "    .withColumn(\"imageUrl\", col(\"author.imageUrl\"))\n",
    "    .withColumn(\"isChatModerator\", col(\"author.isChatModerator\"))\n",
    "    .withColumn(\"isChatOwner\", col(\"author.isChatOwner\"))\n",
    "    .withColumn(\"isChatSponsor\", col(\"author.isChatSponsor\"))\n",
    "    .withColumn(\"isVerified\", col(\"author.isVerified\"))\n",
    "    .withColumn(\"name\", col(\"author.name\"))\n",
    "    .withColumn(\"type\", col(\"author.type\"))\n",
    "    .withColumn(\"year\", year(col(\"datetime\")))\n",
    "    .withColumn(\"month\", month(col(\"datetime\")))\n",
    "    .drop(*cols)\n",
    "\n",
    ")"
   ]
  },
  {
   "cell_type": "code",
   "execution_count": 97,
   "metadata": {},
   "outputs": [
    {
     "name": "stdout",
     "output_type": "stream",
     "text": [
      "root\n",
      " |-- amountString: string (nullable = true)\n",
      " |-- amountValue: double (nullable = true)\n",
      " |-- bgColor: long (nullable = true)\n",
      " |-- currency: string (nullable = true)\n",
      " |-- datetime: string (nullable = true)\n",
      " |-- elapsedTime: string (nullable = true)\n",
      " |-- id: string (nullable = true)\n",
      " |-- message: string (nullable = true)\n",
      " |-- timestamp: long (nullable = true)\n",
      " |-- type: string (nullable = true)\n",
      " |-- badgeUrl: string (nullable = true)\n",
      " |-- channelId: string (nullable = true)\n",
      " |-- channelUrl: string (nullable = true)\n",
      " |-- imageUrl: string (nullable = true)\n",
      " |-- isChatModerator: boolean (nullable = true)\n",
      " |-- isChatOwner: boolean (nullable = true)\n",
      " |-- isChatSponsor: boolean (nullable = true)\n",
      " |-- isVerified: boolean (nullable = true)\n",
      " |-- name: string (nullable = true)\n",
      " |-- year: integer (nullable = true)\n",
      " |-- month: integer (nullable = true)\n",
      "\n"
     ]
    }
   ],
   "source": [
    "df.printSchema()"
   ]
  },
  {
   "cell_type": "code",
   "execution_count": 67,
   "metadata": {},
   "outputs": [],
   "source": [
    "df_pandas = df.toPandas()"
   ]
  },
  {
   "cell_type": "code",
   "execution_count": 102,
   "metadata": {},
   "outputs": [],
   "source": [
    "df_pandas.to_parquet(\n",
    "    '../datalake/silver/lofi-hiphop/data.parquet',\n",
    "    partition_cols=['year', 'month'])"
   ]
  },
  {
   "cell_type": "code",
   "execution_count": null,
   "metadata": {},
   "outputs": [],
   "source": []
  }
 ],
 "metadata": {
  "kernelspec": {
   "display_name": "Python 3 (ipykernel)",
   "language": "python",
   "name": "python3"
  },
  "language_info": {
   "codemirror_mode": {
    "name": "ipython",
    "version": 3
   },
   "file_extension": ".py",
   "mimetype": "text/x-python",
   "name": "python",
   "nbconvert_exporter": "python",
   "pygments_lexer": "ipython3",
   "version": "3.10.3"
  },
  "vscode": {
   "interpreter": {
    "hash": "b0e9a9a114dbb0be161e350dfe64ec1939bf7bd46ff6efbaa9e97e9b7c00de57"
   }
  }
 },
 "nbformat": 4,
 "nbformat_minor": 2
}
