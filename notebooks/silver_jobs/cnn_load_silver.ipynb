{
 "cells": [
  {
   "cell_type": "code",
   "execution_count": 1,
   "metadata": {},
   "outputs": [],
   "source": [
    "from pyspark.sql.functions import *\n",
    "from pyspark.sql import SparkSession\n",
    "import os, json\n",
    "from pyspark.sql.functions import *\n",
    "\n",
    "spark = (\n",
    "    SparkSession.builder.appName(\"CNN\")\n",
    "    .getOrCreate()\n",
    ")"
   ]
  },
  {
   "cell_type": "code",
   "execution_count": 2,
   "metadata": {},
   "outputs": [],
   "source": [
    "path_to_json = '../datalake/bronze/cnn/'\n",
    "json_files = [  '../datalake/bronze/cnn/' + pos_json for pos_json in os.listdir(path_to_json) \n",
    "              if pos_json.endswith('.json')]\n",
    "\n",
    "df = (\n",
    "    spark\n",
    "    .read\n",
    "    .format(\"json\")\n",
    "    .load(json_files, multiLine=True)\n",
    ")"
   ]
  },
  {
   "cell_type": "code",
   "execution_count": 3,
   "metadata": {},
   "outputs": [],
   "source": [
    "cols = [\"author\", \"messageEx\"]\n",
    "df = (\n",
    "    df\n",
    "    .withColumn(\"badgeUrl\", col(\"author.badgeUrl\"))\n",
    "    .withColumn(\"channelId\", col(\"author.channelId\"))\n",
    "    .withColumn(\"channelUrl\", col(\"author.channelUrl\"))\n",
    "    .withColumn(\"imageUrl\", col(\"author.imageUrl\"))\n",
    "    .withColumn(\"isChatModerator\", col(\"author.isChatModerator\"))\n",
    "    .withColumn(\"isChatOwner\", col(\"author.isChatOwner\"))\n",
    "    .withColumn(\"isChatSponsor\", col(\"author.isChatSponsor\"))\n",
    "    .withColumn(\"isVerified\", col(\"author.isVerified\"))\n",
    "    .withColumn(\"name\", col(\"author.name\"))\n",
    "    .withColumn(\"type\", col(\"author.type\"))\n",
    "    .withColumn(\"year\", year(col(\"datetime\")))\n",
    "    .withColumn(\"month\", month(col(\"datetime\")))\n",
    "    .drop(*cols)\n",
    "\n",
    ")"
   ]
  },
  {
   "cell_type": "code",
   "execution_count": 4,
   "metadata": {},
   "outputs": [],
   "source": [
    "df_pandas = df.toPandas()"
   ]
  },
  {
   "cell_type": "code",
   "execution_count": 5,
   "metadata": {},
   "outputs": [],
   "source": [
    "df_pandas.to_parquet(\n",
    "    '../datalake/silver/cnn/data.parquet',\n",
    "    partition_cols=['year', 'month'])"
   ]
  }
 ],
 "metadata": {
  "kernelspec": {
   "display_name": "Python 3.10.3 ('venv': venv)",
   "language": "python",
   "name": "python3"
  },
  "language_info": {
   "codemirror_mode": {
    "name": "ipython",
    "version": 3
   },
   "file_extension": ".py",
   "mimetype": "text/x-python",
   "name": "python",
   "nbconvert_exporter": "python",
   "pygments_lexer": "ipython3",
   "version": "3.10.3"
  },
  "orig_nbformat": 4,
  "vscode": {
   "interpreter": {
    "hash": "b0e9a9a114dbb0be161e350dfe64ec1939bf7bd46ff6efbaa9e97e9b7c00de57"
   }
  }
 },
 "nbformat": 4,
 "nbformat_minor": 2
}
